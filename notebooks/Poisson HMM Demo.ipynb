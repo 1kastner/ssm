{
 "cells": [
  {
   "cell_type": "markdown",
   "metadata": {},
   "source": [
    "# Poisson HMM Demo\n",
    "## Applying an HMM to electrophysiology data from a motor-control task\n",
    "\n",
    "In this notebook, we'll show how SSM can be used for modeling neuroscience data. This notebook is based off the 2008 paper [\"Detecting Neural-State Transitions Using Hidden Markov Models for Motor Cortical Prostheses\"](https://web.stanford.edu/~shenoy/GroupPublications/KemereEtAlJNeurophysiol2008.pdf) by Caleb Kemere _et al_.  \n",
    "\n",
    "  \n",
    "Kemere shows that an HMM can be used to detect neural transitions in a reaching task performed by a monkey. Crucially, by cleverly configuring the HMM states, the authors are also able to decode which target the monkey reached to using their trained HMM. See the paper for more details on the data and experimental set-up.\n",
    "  \n",
    "First, we need to load in the data. Though the data is not yet publicly available, we are hoping to make it available soon. We will assume that you have the dependencies included in SSM installed."
   ]
  },
  {
   "cell_type": "code",
   "execution_count": 7,
   "metadata": {},
   "outputs": [],
   "source": [
    "from scipy.io import loadmat\n",
    "import autograd.numpy as np\n",
    "import seaborn as sns\n",
    "import matplotlib.pyplot as plt\n",
    "import ssm\n",
    "\n",
    "%matplotlib inline"
   ]
  },
  {
   "cell_type": "markdown",
   "metadata": {},
   "source": [
    "## 1. Background\n",
    "\n",
    "This dataset contains neural recordings made using a Utah array (96 electrodes) implanted in pre-motor cortex a macaque performing a reach task.\n",
    "During the task, the monkey must reach to one of 8 targets, as indicated by a cue on a screen.\n",
    "Each trial consists of 3 phases: a **baseline** phase, a **plan** phase, and a **move** phase.\n",
    "We describe these phases below:\n",
    "\n",
    "1. **baseline**: The animal fixates and places his hand in the center of the screen.\n",
    "2. **plan**: A target appears in one of 8 locations (radially spread out from the center of the screen).\n",
    "The monkey does not yet begin reaching.\n",
    "3. **move**: A go-cue comes on, telling the monkey to begin his reach. Upon successfully reaching the target, the monkey receives a liquid reward.\n",
    "\n",
    "The neural data has been spike-sorted and binned in 10ms intervals.  \n",
    "  \n",
    "**Note**: This data contains both single and multi-unit spiking activity. We'll be loose with terminology and use the term \"neuron\" and \"unit\" interchangeably here."
   ]
  },
  {
   "cell_type": "markdown",
   "metadata": {},
   "source": [
    "## 2. Load the dataset\n",
    "\n",
    "The dataset is provided in the form of a .mat file, which we can load into Python using `scipy.io.loadmat`.\n",
    "Once we load the data, `struct` is a dictionary with the following keys:\n",
    "  \n",
    "1. `FR`: A numpy array of (neuron, time-bin, trial) with size (190, 155, 1127). The trials have already been time aligned, such that the plan and movement periods begin in the same time-bin for all of the 1127 trials.\n",
    "2. `base_idx`: Indices of time-bins corresponding to the baseline period (see Section #1).\n",
    "3. `plan_idx`: Indices of time-bins corresponding to the plan period.\n",
    "4. `move_idx`: Indices of time-bins corresponding to the movement period.\n",
    "5. `targets`: Length 8 list of the x,y coordinates for each of the 8 targets.\n",
    "5. `cInds`: A nested list, where `cInds[0]` is list of all trials to target 1, `cInds[1]` is a list of all trials to target 2, etc.\n",
    "5. `train_trials`: Indices of the trials we will use for training.\n",
    "5. `test_trials`: Indices of the trials we will use for testing.\n",
    "  \n",
    "  \n",
    "Below, after we pull out the data, we visualize the spike data for the first trials.\n",
    "We see that there is a noticeable increase in neural activity when the movement period starts. "
   ]
  },
  {
   "cell_type": "code",
   "execution_count": 2,
   "metadata": {},
   "outputs": [],
   "source": [
    "DATA_PATH = \"/Users/Bantin/Documents/Linderman-Shenoy/Kemere2008/extracted_data/H1217/H1217_hmm_data.mat\"\n",
    "struct = loadmat(DATA_PATH)"
   ]
  },
  {
   "cell_type": "code",
   "execution_count": 3,
   "metadata": {},
   "outputs": [],
   "source": [
    "FR = struct['FR']\n",
    "base_idx = struct['base_idx'][0]\n",
    "plan_idx = struct['plan_idx'][0]\n",
    "move_idx = struct['move_idx'][0]\n",
    "targets = struct['targets']\n",
    "target_idx = struct['cInds']\n",
    "train_idx = struct['train_trials']\n",
    "test_idx = struct['test_trials']"
   ]
  },
  {
   "cell_type": "code",
   "execution_count": 4,
   "metadata": {},
   "outputs": [
    {
     "data": {
      "image/png": "[encoded data removed]",
      "text/plain": [
       "<Figure size 720x432 with 1 Axes>"
      ]
     },
     "metadata": {
      "needs_background": "light"
     },
     "output_type": "display_data"
    }
   ],
   "source": [
    "# Display a spike raster of the image\n",
    "plt.figure(figsize=(10,6))\n",
    "plt.imshow(FR[:,:,1], aspect='auto', cmap='gray')\n",
    "#plt.axis('off')\n",
    "\n",
    "# Label the different phases of the trial movement activity\n",
    "time_bins = FR.shape[1]\n",
    "plan_start = plan_idx[0]\n",
    "move_start = move_idx[0]\n",
    "\n",
    "plt.axvline(x=plan_start, color='red', linewidth=5, label='Plan Start')\n",
    "plt.axvline(x=move_start, color='blue', linewidth=5, label='Move Start')\n",
    "plt.ylabel(\"Unit\")\n",
    "plt.xlabel(\"Time\")\n",
    "plt.legend()\n",
    "plt.tight_layout\n",
    "plt.show()"
   ]
  },
  {
   "cell_type": "markdown",
   "metadata": {},
   "source": [
    "## 3. Fit a simple 3 state HMM\n",
    "As a first step, we'll fit a simple 3 state HMM to the training data. For this, we're not aiming to actually decode which target the monkey reached to, we're merely going to check if we can uncover the the 3 phases of the reach (baseline, plan, move) in an unsupervised way using an HMM.\n",
    "  \n",
    "### 3.1 Format the data for SSM\n",
    "In order for the following steps to make sense, we need to give more details about how the `FR` array is arranged. As mentioned, it is formatted as (neurons, time, trials). However, not every trial in the dataset is actually the same length -- this is because the length of the delay period is randomized, and it takes the monkey varying amounts of time to reach the target.  \n",
    "\n",
    "To acount for this, the `FR` array has been padded with NaNs so that all trials have the same length. This is very helpful, because it makes it easy to know which time bins correspond to each phase of the task. \n",
    "\n",
    "However, for our purposes, we don't want to include the NaNS when fitting our HMM (in fact, SSM will throw an error if we do). \n",
    "Instead, we will reset the NaN entries in `FR` to be zeros. We will then pass a mask which tells SSM to ignore the entries which were previously NaNs. This mask will be `False` where the data is missing (i.e where we had NaNs) and true elsewhere.\n",
    "In order to use the Poisson observation model, SSM expects the observation data to be Integers. This is done in the cell below."
   ]
  },
  {
   "cell_type": "code",
   "execution_count": 5,
   "metadata": {},
   "outputs": [],
   "source": [
    "train_trials = []\n",
    "train_masks = []\n",
    "for i, idx in enumerate(train_idx):\n",
    "    spikes_cur = np.squeeze(FR[:,:,i])\n",
    "    mask_cur = np.invert(np.isnan(spikes_cur))\n",
    "    train_masks.append(mask_cur)\n",
    "    spikes_cur[np.isnan(spikes_cur)] = 0\n",
    "    spikes_cur = spikes_cur.astype(int)\n",
    "    train_trials.append(spikes_cur)"
   ]
  },
  {
   "cell_type": "markdown",
   "metadata": {},
   "source": [
    "### 3.2 Fit a 3-state HMM\n",
    "The syntax to create a standard HMM object using SSM is:  \n",
    "`ssm.HMM(K, N, transitions=<transition_class>, observations=<observation_class>)`\n",
    "\n",
    "Where $K$ is the number of discrete states, and $N$ is the dimensensionality of the observations. We'll use standard transitions and Poisson observations.\n",
    "To fit our HMM to the training data, we call `HMM.fit(train_trials, masks=train_masks)`"
   ]
  }
 ],
 "metadata": {
  "kernelspec": {
   "display_name": "Python 3",
   "language": "python",
   "name": "python3"
  },
  "language_info": {
   "codemirror_mode": {
    "name": "ipython",
    "version": 3
   },
   "file_extension": ".py",
   "mimetype": "text/x-python",
   "name": "python",
   "nbconvert_exporter": "python",
   "pygments_lexer": "ipython3",
   "version": "3.7.4"
  }
 },
 "nbformat": 4,
 "nbformat_minor": 4
}
